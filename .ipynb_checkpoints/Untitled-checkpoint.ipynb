{
 "cells": [
  {
   "cell_type": "markdown",
   "id": "7cbb405c-c9cc-4095-afe8-1f0a8015a500",
   "metadata": {},
   "source": [
    "**This is the set of text filtering scripts which I will be using for various operations**"
   ]
  },
  {
   "cell_type": "code",
   "execution_count": 89,
   "id": "73beba75-b481-4e53-8b15-df9b335b797e",
   "metadata": {},
   "outputs": [
    {
     "name": "stdout",
     "output_type": "stream",
     "text": [
      "Ancestral attendant Qu 宗區. Guo. Zhuang 32.3. Break Ancestral attendant Qu 宗區. Guo. Zhuang 32.3.\n",
      "Ao of Youguo 有過澆. Legendary figure of antiquity. Also Ao 澆. Xiang 4.7;Ai 1.2. Break Ao of Youguo 有過澆. Legendary figure of antiquity. Also Ao 澆. Xiang 4.7;Ai 1.2.\n",
      "Archer Yi. See Lord Yi of Youqiong.# Break Archer Yi. See Lord Yi of Youqiong.#\n",
      "Ba Ji 巴姬. Chu (W). Consort of King Gong of Chu. Zhao 13.2. Break Ba Ji 巴姬. Chu (W). Consort of King Gong of Chu. Zhao 13.2.\n",
      "Bai Yi 白乙. Qin. a. Bai Yibing 白乙丙. Xi 32.3, 33.3. Break Bai Yi 白乙. Qin. a. Bai Yibing 白乙丙. Xi 32.3, 33.3.\n",
      "Baili 百里. Xǔ. Yin 11.3. Break Baili 百里. Xǔ. Yin 11.3.\n",
      "Baili 百里. Yu/Qin. Xi 13.4. Break Baili 百里. Yu/Qin. Xi 13.4.\n",
      "Ban, Liege of Cao. See Lord Zhao of Cao. Break Ban, Liege of Cao. See Lord Zhao of Cao.\n",
      "Ban, Prince of Cai. See Lord Ling of Cai. Break Ban, Prince of Cai. See Lord Ling of Cai.\n"
     ]
    }
   ],
   "source": [
    "import re\n",
    "import ctext\n",
    "\n",
    "data = open(\"people index formatted.txt\", \"r\", encoding=\"UTF-8\")\n",
    "people_index = data.read()\n",
    "people_index_list = people_index.split(\"\\n\")\n",
    "#print(people_index_list[0:10])\n",
    "#print(people_index[1:10])\n",
    "for x in people_index_list[1:10]:\n",
    "    for match in re.finditer(r\"(.+)([x4E00–x9FFF])?\", x):\n",
    "        matched_text = match.group(0)\n",
    "        print(matched_text, \"Break\", x)"
   ]
  },
  {
   "cell_type": "code",
   "execution_count": null,
   "id": "b0d1b11c-9be6-4c56-b5ff-4149d4166046",
   "metadata": {},
   "outputs": [],
   "source": []
  }
 ],
 "metadata": {
  "kernelspec": {
   "display_name": "Python 3 (ipykernel)",
   "language": "python",
   "name": "python3"
  },
  "language_info": {
   "codemirror_mode": {
    "name": "ipython",
    "version": 3
   },
   "file_extension": ".py",
   "mimetype": "text/x-python",
   "name": "python",
   "nbconvert_exporter": "python",
   "pygments_lexer": "ipython3",
   "version": "3.11.7"
  }
 },
 "nbformat": 4,
 "nbformat_minor": 5
}
