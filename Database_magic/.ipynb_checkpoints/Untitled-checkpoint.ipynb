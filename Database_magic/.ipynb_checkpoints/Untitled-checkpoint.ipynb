{
 "cells": [
  {
   "cell_type": "markdown",
   "id": "12635640-a904-47cb-ad4a-804a05aebefc",
   "metadata": {},
   "source": [
    "**Here in this notebook, I will export the data from the SQLite database to csv files, then I will upload the data from the csv files via ssh to my domain at Zuocartographer**\n",
    "\n",
    "Step 1) Python to extract the data from the Sqlite database:"
   ]
  },
  {
   "cell_type": "code",
   "execution_count": 4,
   "id": "c819127c-abb0-4897-bc67-783136a5f514",
   "metadata": {},
   "outputs": [
    {
     "name": "stdout",
     "output_type": "stream",
     "text": [
      "Migration completed successfully!\n"
     ]
    }
   ],
   "source": [
    "import os\n",
    "import sqlite3\n",
    "import csv\n",
    "import mysql.connector\n",
    "\n",
    "def export_sqlite_to_csv(sqlite_file, table_names, csv_output_directory):\n",
    "    conn = sqlite3.connect(sqlite_file)\n",
    "    cursor = conn.cursor()\n",
    "    \n",
    "#cursor is the tool which executes the SQL statements in this code. https://docs.python.org/3/library/sqlite3.html#sqlite3.Cursor\n",
    "    \n",
    "    for table_name in table_names:\n",
    "        csv_file = os.path.join(csv_output_directory, f\"{table_name}.csv\")\n",
    "        cursor.execute(f\"SELECT * FROM {table_name}\")\n",
    "\n",
    "# The as keyword means that for the rest of the loop, the product of the opening command is referred to as file.\n",
    "        \n",
    "        with open(csv_file, 'w', newline='', encoding='utf-8') as file:\n",
    "            writer = csv.writer(file)\n",
    "            writer.writerow([i[0] for i in cursor.description])\n",
    "            writer.writerows(cursor.fetchall())\n",
    "\n",
    "    conn.close()\n",
    "    \n",
    "if __name__ == \"__main__\":\n",
    "    # SQLite settings\n",
    "    sqlite_file = r'/home/yefren/github/Zuozhuan-Map-Beta/Database.sqlite'\n",
    "    table_names = ['locales_corrected', 'personae']\n",
    "\n",
    "    # CSV output directory\n",
    "    csv_output_directory = r'/home/yefren/github/Zuozhuan-Map-Beta/csv'\n",
    "\n",
    "    # Create the output directory if it doesn't exist\n",
    "    os.makedirs(csv_output_directory, exist_ok=True)\n",
    "\n",
    "    # Export from SQLite to CSV\n",
    "    export_sqlite_to_csv(sqlite_file, table_names, csv_output_directory)\n",
    "\n",
    "    # Specify CSV files\n",
    "    csv_files = [os.path.join(csv_output_directory, f\"{table}.csv\") for table in table_names]\n",
    "\n",
    "    print(\"Migration completed successfully!\")"
   ]
  },
  {
   "cell_type": "markdown",
   "id": "939b2b16-8742-45f8-80ab-6879e5eb4c21",
   "metadata": {},
   "source": [
    "2) Next we will connect to the zuocartographer website using ssh:"
   ]
  },
  {
   "cell_type": "code",
   "execution_count": 1,
   "id": "b57845f1-57f9-425b-bb46-add2944be62a",
   "metadata": {},
   "outputs": [
    {
     "name": "stdin",
     "output_type": "stream",
     "text": [
      "input ssh: 213123\n",
      "Input username: svfdfv\n",
      "input password: cghj\n"
     ]
    }
   ],
   "source": [
    "ssh = input(\"input ssh:\")\n",
    "username = input(\"input username:\")\n",
    "password = input(\"input password:\")\n",
    "\n"
   ]
  },
  {
   "cell_type": "markdown",
   "id": "59bf76b5-5095-410f-8211-4de6882b09f2",
   "metadata": {},
   "source": [
    "3) Finally we will "
   ]
  }
 ],
 "metadata": {
  "kernelspec": {
   "display_name": "Python 3 (ipykernel)",
   "language": "python",
   "name": "python3"
  },
  "language_info": {
   "codemirror_mode": {
    "name": "ipython",
    "version": 3
   },
   "file_extension": ".py",
   "mimetype": "text/x-python",
   "name": "python",
   "nbconvert_exporter": "python",
   "pygments_lexer": "ipython3",
   "version": "3.11.7"
  }
 },
 "nbformat": 4,
 "nbformat_minor": 5
}
